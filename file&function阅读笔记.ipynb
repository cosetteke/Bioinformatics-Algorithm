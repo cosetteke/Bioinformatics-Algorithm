{
 "metadata": {
  "language_info": {
   "codemirror_mode": {
    "name": "ipython",
    "version": 3
   },
   "file_extension": ".py",
   "mimetype": "text/x-python",
   "name": "python",
   "nbconvert_exporter": "python",
   "pygments_lexer": "ipython3",
   "version": "3.8.0-final"
  },
  "orig_nbformat": 2,
  "kernelspec": {
   "name": "Python 3.8.0 64-bit",
   "display_name": "Python 3.8.0 64-bit",
   "metadata": {
    "interpreter": {
     "hash": "aee8b7b246df8f9039afb4144a1f6fd8d2ca17a180786b69acc140d282b71a49"
    }
   }
  }
 },
 "nbformat": 4,
 "nbformat_minor": 2,
 "cells": [
  {
   "cell_type": "code",
   "execution_count": 2,
   "metadata": {},
   "outputs": [
    {
     "output_type": "stream",
     "name": "stdout",
     "text": [
      "lineFirst Line   reversed is eniL tsriF\nlineSecond Line  reversed is eniL dnoceS\nlineThird Line   reversed is eniL drihT\n"
     ]
    }
   ],
   "source": [
    "input_file = open('input.txt','r')\n",
    "output_file = open('output.txt','w')\n",
    "for line_str in input_file:\n",
    "    new_str = ''\n",
    "    line_str = line_str.strip()\n",
    "    for char in line_str:\n",
    "        new_str = char + new_str\n",
    "    print(new_str,file = output_file) # print to output file\n",
    "    print('line{:12s} reversed is {:s}'.format(line_str,new_str))\n",
    "input_file.close()\n",
    "output_file.close()"
   ]
  },
  {
   "cell_type": "code",
   "execution_count": null,
   "metadata": {},
   "outputs": [],
   "source": []
  }
 ]
}