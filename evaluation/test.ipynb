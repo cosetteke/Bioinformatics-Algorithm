{
 "cells": [
  {
   "cell_type": "code",
   "execution_count": 13,
   "outputs": [],
   "source": [
    "reader = open('data.txt', 'r')\n",
    "table = {}\n",
    "for line in reader.readlines():\n",
    "    line = line.rstrip('\\n').split(',')\n",
    "    key = line[0]\n",
    "    value = map(lambda x: int(x), (line[1:])) # convert each value as integer in value list\n",
    "    table[key] = tuple(value)\n",
    "reader.close()"
   ],
   "metadata": {
    "collapsed": false,
    "pycharm": {
     "name": "#%%\n"
    }
   }
  },
  {
   "cell_type": "code",
   "execution_count": 14,
   "outputs": [],
   "source": [
    "names = ['CHICKEN', 'KOI', 'COW', 'DOG', 'CHEETAH', 'LOBSTER']\n",
    "new_dic = dict((key,value) for key, value in table.items() if key in names)"
   ],
   "metadata": {
    "collapsed": false,
    "pycharm": {
     "name": "#%%\n"
    }
   }
  },
  {
   "cell_type": "code",
   "execution_count": 15,
   "outputs": [
    {
     "data": {
      "text/plain": "{'COW': (20, 3, 9, 2),\n 'DOG': (13, 3, 20, 4),\n 'LOBSTER': (50, 7, 10, 1),\n 'CHICKEN': (10, 7, 22, -1),\n 'KOI': (50, 3, 19, 7),\n 'CHEETAH': (10, 7, 15, 2)}"
     },
     "execution_count": 15,
     "metadata": {},
     "output_type": "execute_result"
    }
   ],
   "source": [
    "new_dic"
   ],
   "metadata": {
    "collapsed": false,
    "pycharm": {
     "name": "#%%\n"
    }
   }
  },
  {
   "cell_type": "code",
   "execution_count": 16,
   "outputs": [],
   "source": [
    "peaks = []\n",
    "nodes = []\n",
    "n=4\n",
    "for i in range(n):\n",
    "        peaks.append(i+1)                                       #create peaks 1,2,...,n\n",
    "        temp1 = peaks[i]\n",
    "        for j in range(temp1,n+1):                              #create nodes\n",
    "            if(temp1==j):\n",
    "                continue                                        #continue if node [1,1] for example has been created because such nodes don't exist\n",
    "            else:\n",
    "                nodes.append([temp1,j])"
   ],
   "metadata": {
    "collapsed": false,
    "pycharm": {
     "name": "#%%\n"
    }
   }
  },
  {
   "cell_type": "code",
   "execution_count": 17,
   "outputs": [
    {
     "name": "stdout",
     "output_type": "stream",
     "text": [
      "[[1, 2], [1, 3], [1, 4], [2, 3], [2, 4], [3, 4]]\n",
      "[1, 2, 3, 4]\n"
     ]
    }
   ],
   "source": [
    "print(nodes)\n",
    "\n",
    "print(peaks)"
   ],
   "metadata": {
    "collapsed": false,
    "pycharm": {
     "name": "#%%\n"
    }
   }
  },
  {
   "cell_type": "code",
   "execution_count": 1,
   "outputs": [],
   "source": [
    "from collections import defaultdict\n",
    "def create_adj_list(edges):\n",
    "        adj_list = defaultdict(list)\n",
    "        for x, y in edges:\n",
    "            adj_list[x].append(y)\n",
    "            adj_list[y].append(x)\n",
    "        return adj_list"
   ],
   "metadata": {
    "collapsed": false,
    "pycharm": {
     "name": "#%%\n"
    }
   }
  },
  {
   "cell_type": "code",
   "execution_count": null,
   "outputs": [],
   "source": [
    "print(create_adj_list(5))\n",
    "print(111)"
   ],
   "metadata": {
    "collapsed": false,
    "pycharm": {
     "name": "#%%\n"
    }
   }
  },
  {
   "cell_type": "code",
   "execution_count": 2,
   "outputs": [
    {
     "name": "stdout",
     "output_type": "stream",
     "text": [
      "a\n"
     ]
    }
   ],
   "source": [
    "print('a')"
   ],
   "metadata": {
    "collapsed": false,
    "pycharm": {
     "name": "#%%\n"
    }
   }
  }
 ],
 "metadata": {
  "kernelspec": {
   "name": "python3",
   "language": "python",
   "display_name": "Python 3"
  },
  "language_info": {
   "codemirror_mode": {
    "name": "ipython",
    "version": 2
   },
   "file_extension": ".py",
   "mimetype": "text/x-python",
   "name": "python",
   "nbconvert_exporter": "python",
   "pygments_lexer": "ipython2",
   "version": "2.7.6"
  }
 },
 "nbformat": 4,
 "nbformat_minor": 0
}