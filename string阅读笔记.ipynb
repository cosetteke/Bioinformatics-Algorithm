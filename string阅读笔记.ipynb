{
 "cells": [
  {
   "cell_type": "code",
   "execution_count": 1,
   "metadata": {
    "collapsed": true
   },
   "outputs": [
    {
     "output_type": "stream",
     "name": "stdout",
     "text": [
      "Beautiful is better than ugly. Explicit is better than implicit.\nSimple is better than complex.\nComplex is better than complicated.\n"
     ]
    }
   ],
   "source": [
    "zen_str = '''Beautiful is better than ugly. Explicit is better than implicit.\n",
    "Simple is better than complex.\n",
    "Complex is better than complicated.'''\n",
    "\n",
    "print(zen_str)"
   ]
  },
  {
   "cell_type": "code",
   "execution_count": 18,
   "metadata": {},
   "outputs": [
    {
     "output_type": "execute_result",
     "data": {
      "text/plain": [
       "11"
      ]
     },
     "metadata": {},
     "execution_count": 18
    }
   ],
   "source": [
    "hello_word = 'hello.  world'\n",
    "hello_word.find('l',hello_word.find('l')+2)\n"
   ]
  },
  {
   "cell_type": "code",
   "execution_count": 9,
   "metadata": {},
   "outputs": [
    {
     "output_type": "stream",
     "name": "stdout",
     "text": [
      "H <class 'str'>\ni <class 'str'>\n  <class 'str'>\nm <class 'str'>\no <class 'str'>\nm <class 'str'>\n"
     ]
    }
   ],
   "source": [
    "for char in 'Hi mom': \n",
    "    print(char, type(char))"
   ]
  },
  {
   "cell_type": "code",
   "execution_count": 13,
   "metadata": {},
   "outputs": [
    {
     "output_type": "execute_result",
     "data": {
      "text/plain": [
       "True"
      ]
     },
     "metadata": {},
     "execution_count": 13
    }
   ],
   "source": [
    "'A' < 'a'"
   ]
  },
  {
   "cell_type": "code",
   "execution_count": 19,
   "metadata": {},
   "outputs": [
    {
     "output_type": "stream",
     "name": "stdout",
     "text": [
      "         0 -->    0\n         1 -->    1\n         2 -->    4\n         3 -->    9\n         4 -->   16\n"
     ]
    }
   ],
   "source": [
    "for i in range(5):\n",
    "    print(\"{:10d} --> {:4d}\".format(i,i**2))"
   ]
  },
  {
   "cell_type": "code",
   "execution_count": 21,
   "metadata": {},
   "outputs": [
    {
     "output_type": "stream",
     "name": "stdout",
     "text": [
      "0 1 2 3 4 5 6 7 8 9 10 "
     ]
    }
   ],
   "source": [
    "river = 'mississippi'\n",
    "for index in range(len(river)): # values of 0 upto , but not including 11\n",
    "    print(index,end=' ')"
   ]
  },
  {
   "cell_type": "code",
   "execution_count": 23,
   "metadata": {},
   "outputs": [
    {
     "output_type": "execute_result",
     "data": {
      "text/plain": [
       "False"
      ]
     },
     "metadata": {},
     "execution_count": 23
    }
   ],
   "source": [
    "pal_1 = \"Madam, I'm Adam\"\n",
    "pal_2 = \"A man, a plan, a canal, Panama\"\n",
    "pal_1[0] != pal_1[-1]"
   ]
  },
  {
   "cell_type": "code",
   "execution_count": 26,
   "metadata": {},
   "outputs": [
    {
     "output_type": "execute_result",
     "data": {
      "text/plain": [
       "29634"
      ]
     },
     "metadata": {},
     "execution_count": 26
    }
   ],
   "source": [
    "ord('珂')"
   ]
  },
  {
   "cell_type": "code",
   "execution_count": null,
   "metadata": {},
   "outputs": [],
   "source": []
  }
 ],
 "metadata": {
  "kernelspec": {
   "display_name": "Python 3",
   "language": "python",
   "name": "python3"
  },
  "language_info": {
   "codemirror_mode": {
    "name": "ipython",
    "version": 2
   },
   "file_extension": ".py",
   "mimetype": "text/x-python",
   "name": "python",
   "nbconvert_exporter": "python",
   "pygments_lexer": "ipython2",
   "version": "3.7.7-final"
  }
 },
 "nbformat": 4,
 "nbformat_minor": 0
}