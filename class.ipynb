{
 "cells": [
  {
   "cell_type": "code",
   "execution_count": 1,
   "metadata": {
    "collapsed": true
   },
   "outputs": [
    {
     "name": "stdout",
     "output_type": "stream",
     "text": [
      "in constructor\n"
     ]
    },
    {
     "data": {
      "text/plain": "__main__.Rational"
     },
     "execution_count": 1,
     "metadata": {},
     "output_type": "execute_result"
    }
   ],
   "source": [
    "class Rational(object):\n",
    "    def __init__(self, numer, denom = 1):\n",
    "        print('in constructor')\n",
    "        self.numer = numer\n",
    "        self.denom = denom\n",
    "\n",
    "    def __str__(self):\n",
    "        print('in string')\n",
    "        return str(self.numer) + '/' + str(self.denom)\n",
    "\n",
    "    def __repr__(self):\n",
    "        print('in repr')\n",
    "        return self.__str__()\n",
    "\n",
    "ins1 = Rational(1,2)\n",
    "type(ins1)"
   ]
  },
  {
   "cell_type": "code",
   "execution_count": 7,
   "outputs": [],
   "source": [
    "class Particle(object):\n",
    "    def __init__(self, name = '', position = (0.0, 0.0, 0.0), \\\n",
    "                 velocity = (0.0, 0.0, 0.0) , spin = 0.0):\n",
    "        self.position = position\n",
    "        self.velocity = velocity\n",
    "        self.name = name\n",
    "        self.spin = spin\n",
    "\n",
    "    def __str__(self):\n",
    "        print('in particle str')\n",
    "        pos_str = '({}:{}:{})'.format(self.position[0],self.position[1],self.position[2])\n",
    "        vel_str = '({}:{}:{})'.format(self.velocity[0],self.velocity[1],self.velocity[2])\n",
    "        result_str = \"{} at {} with velocity {} and spin {}\".format(self.name, pos_str, vel_str, self.spin)\n",
    "        return result_str\n",
    "\n",
    "class MassParticle(Particle):\n",
    "    def __init__(self, name = '', position = (0.0, 0.0, 0.0), \\\n",
    "             velocity = (0.0, 0.0, 0.0) , spin = 0.0, mass = 0.0):\n",
    "        Particle.__init__(self, name, position, velocity, spin)\n",
    "        self.mass = mass\n",
    "\n",
    "    def __str__(self):\n",
    "        print('in mass str')\n",
    "        result_str = Particle.__str__(self)\n",
    "        result_str = result_str + ' and mass {}'.format(self.mass)\n",
    "        return result_str\n"
   ],
   "metadata": {
    "collapsed": false,
    "pycharm": {
     "name": "#%%\n"
    }
   }
  },
  {
   "cell_type": "code",
   "execution_count": 9,
   "outputs": [
    {
     "name": "stdout",
     "output_type": "stream",
     "text": [
      "in particle str\n",
      "photon at (0.0:0.0:0.0) with velocity (0.0:0.0:0.0) and spin 1.0\n",
      "in mass str\n",
      "in particle str\n",
      "ke at (0.0:0.0:0.0) with velocity (0.0:0.0:0.0) and spin 33 and mass 111\n"
     ]
    }
   ],
   "source": [
    "photon = Particle(name = 'photon' , spin = 1.0)\n",
    "print(photon)\n",
    "\n",
    "tau = MassParticle(name = 'ke', mass = 111, spin = 33)\n",
    "print(tau)"
   ],
   "metadata": {
    "collapsed": false,
    "pycharm": {
     "name": "#%%\n"
    }
   }
  },
  {
   "cell_type": "code",
   "execution_count": 14,
   "outputs": [
    {
     "ename": "TypeError",
     "evalue": "__init__() takes 2 positional arguments but 3 were given",
     "output_type": "error",
     "traceback": [
      "\u001B[0;31m---------------------------------------------------------------------------\u001B[0m",
      "\u001B[0;31mTypeError\u001B[0m                                 Traceback (most recent call last)",
      "\u001B[0;32m<ipython-input-14-4a241925b8fb>\u001B[0m in \u001B[0;36m<module>\u001B[0;34m()\u001B[0m\n\u001B[1;32m     13\u001B[0m       \u001B[0;32mdef\u001B[0m \u001B[0minit\u001B[0m \u001B[0;34m(\u001B[0m\u001B[0mself\u001B[0m\u001B[0;34m,\u001B[0m\u001B[0mparam\u001B[0m\u001B[0;34m)\u001B[0m\u001B[0;34m:\u001B[0m\u001B[0;34m\u001B[0m\u001B[0;34m\u001B[0m\u001B[0m\n\u001B[1;32m     14\u001B[0m             \u001B[0mClassName\u001B[0m\u001B[0;34m.\u001B[0m \u001B[0m__init__\u001B[0m \u001B[0;34m(\u001B[0m\u001B[0mself\u001B[0m\u001B[0;34m,\u001B[0m\u001B[0mparam\u001B[0m\u001B[0;34m)\u001B[0m\u001B[0;34m\u001B[0m\u001B[0;34m\u001B[0m\u001B[0m\n\u001B[0;32m---> 15\u001B[0;31m \u001B[0mind\u001B[0m \u001B[0;34m=\u001B[0m \u001B[0mClassName\u001B[0m\u001B[0;34m(\u001B[0m\u001B[0;36m5\u001B[0m\u001B[0;34m,\u001B[0m\u001B[0;36m6\u001B[0m\u001B[0;34m)\u001B[0m\u001B[0;34m\u001B[0m\u001B[0;34m\u001B[0m\u001B[0m\n\u001B[0m\u001B[1;32m     16\u001B[0m \u001B[0mprint\u001B[0m\u001B[0;34m(\u001B[0m\u001B[0mind\u001B[0m\u001B[0;34m)\u001B[0m\u001B[0;34m\u001B[0m\u001B[0;34m\u001B[0m\u001B[0m\n",
      "\u001B[0;31mTypeError\u001B[0m: __init__() takes 2 positional arguments but 3 were given"
     ]
    }
   ],
   "source": [],
   "metadata": {
    "collapsed": false,
    "pycharm": {
     "name": "#%%\n"
    }
   }
  }
 ],
 "metadata": {
  "kernelspec": {
   "display_name": "Python 3",
   "language": "python",
   "name": "python3"
  },
  "language_info": {
   "codemirror_mode": {
    "name": "ipython",
    "version": 2
   },
   "file_extension": ".py",
   "mimetype": "text/x-python",
   "name": "python",
   "nbconvert_exporter": "python",
   "pygments_lexer": "ipython2",
   "version": "2.7.6"
  }
 },
 "nbformat": 4,
 "nbformat_minor": 0
}