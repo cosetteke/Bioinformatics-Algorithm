{
 "metadata": {
  "language_info": {
   "codemirror_mode": {
    "name": "ipython",
    "version": 3
   },
   "file_extension": ".py",
   "mimetype": "text/x-python",
   "name": "python",
   "nbconvert_exporter": "python",
   "pygments_lexer": "ipython3",
   "version": "3.8.0-final"
  },
  "orig_nbformat": 2,
  "kernelspec": {
   "name": "Python 3.8.0 64-bit",
   "display_name": "Python 3.8.0 64-bit",
   "metadata": {
    "interpreter": {
     "hash": "aee8b7b246df8f9039afb4144a1f6fd8d2ca17a180786b69acc140d282b71a49"
    }
   }
  }
 },
 "nbformat": 4,
 "nbformat_minor": 2,
 "cells": [
  {
   "source": [
    "https://scikit-learn.org/stable/modules/multiclass.html"
   ],
   "cell_type": "markdown",
   "metadata": {}
  },
  {
   "source": [
    "1. multiclass classification"
   ],
   "cell_type": "markdown",
   "metadata": {}
  },
  {
   "cell_type": "code",
   "execution_count": 1,
   "metadata": {},
   "outputs": [
    {
     "output_type": "stream",
     "name": "stdout",
     "text": [
      "['apple' 'pear' 'apple']\n"
     ]
    }
   ],
   "source": [
    "import numpy as np \n",
    "# 1d vector contain more than 2 discrete values\n",
    "y = np.array(['apple','pear','apple'])\n",
    "print(y)"
   ]
  },
  {
   "cell_type": "code",
   "execution_count": 2,
   "metadata": {},
   "outputs": [
    {
     "output_type": "stream",
     "name": "stdout",
     "text": [
      "  (0, 1)\t1.0\n  (1, 2)\t1.0\n  (2, 1)\t1.0\n"
     ]
    }
   ],
   "source": [
    "from scipy import sparse\n",
    "row_ind = np.array([0,1,2])\n",
    "col_ind = np.array([1,2,1])\n",
    "y_sparse = sparse.csr_matrix((np.ones(3),(row_ind,col_ind)))\n",
    "print(y_sparse)"
   ]
  },
  {
   "source": [
    "2. multi-label classification\n"
   ],
   "cell_type": "markdown",
   "metadata": {}
  },
  {
   "cell_type": "code",
   "execution_count": 5,
   "metadata": {},
   "outputs": [
    {
     "output_type": "stream",
     "name": "stdout",
     "text": [
      "[[1 0 0 1]\n [0 0 1 1]\n [0 0 0 0]]\n  (0, 0)\t1\n  (0, 3)\t1\n  (1, 2)\t1\n  (1, 3)\t1\n"
     ]
    }
   ],
   "source": [
    "# 1d \n",
    "y = np.array([[1,0,0,1],[0,0,1,1],[0,0,0,0]])\n",
    "print(y)\n",
    "# same y in sparse matrix form\n",
    "y_sparse = sparse.csr_matrix(y)\n",
    "print(y_sparse)"
   ]
  },
  {
   "cell_type": "code",
   "execution_count": null,
   "metadata": {},
   "outputs": [],
   "source": []
  }
 ]
}