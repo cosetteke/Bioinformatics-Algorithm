{
 "cells": [
  {
   "cell_type": "markdown",
   "metadata": {},
   "source": [
    "参考：https://www.bilibili.com/video/BV1xW411Y7Qd?p=8\n",
    "\n"
   ]
  },
  {
   "cell_type": "markdown",
   "metadata": {},
   "source": [
    "1. 如何选择机器学习方法：sklearn官方图 \n",
    "    https://scikit-learn.org/stable/tutorial/machine_learning_map/index.html\n"
   ]
  },
  {
   "cell_type": "markdown",
   "metadata": {},
   "source": [
    "2. 通用学习模式\n"
   ]
  },
  {
   "cell_type": "code",
   "execution_count": null,
   "metadata": {},
   "outputs": [],
   "source": [
    "import numpy as np \n",
    "from sklearn import datasets\n",
    "from sklearn.model_selection import train_test_split \n",
    "from sklearn.neighbors import KNeighborsClassifier\n",
    "\n",
    "## 1. 读取数据\n",
    "iris = datasets.load_iris() #iris is a type of flower\n",
    "iris_X = iris.data\n",
    "iris_y = iris.target\n",
    "\n",
    "# 看一下数据\n",
    "#print(iris_X[:2,:]) # iris的属性 两个sample\n",
    "#print(iris_y) # y的分类 输出：3个类别\n",
    "\n",
    "## 2. 分类\n",
    "X_train,X_test,y_train,y_test = train_test_split(iris_X,iris_y,test_size=0.3) # train：test = 7:3\n",
    "#print(y_train) #输出可以看出分开了且打乱了数据\n",
    "\n",
    "## 3. fit\n",
    "knn = KNeighborsClassifier()\n",
    "knn.fit(X_train,y_train) \n",
    "\n",
    "# 用预测和真实的数据对比\n",
    "print(knn.predict(X_test))\n",
    "print(y_test)"
   ]
  },
  {
   "cell_type": "markdown",
   "metadata": {},
   "source": [
    "3. sklearn的数据库"
   ]
  },
  {
   "cell_type": "code",
   "execution_count": null,
   "metadata": {},
   "outputs": [],
   "source": [
    "from sklearn import datasets\n",
    "from sklearn.linear_model import LinearRegression\n",
    "\n",
    "loaded_data = datasets.load_boston()\n",
    "data_X = loaded_data.data\n",
    "data_y = loaded_data.target\n",
    "\n",
    "model = LinearRegression() # 选择模型，参数此处为默认\n",
    "model.fit(data_X,data_y)\n",
    "\n",
    "print(model.predict(data_X[:4,:])) #预测前4个\n",
    "print(data_y[:4]) #与前四个真实值对比"
   ]
  },
  {
   "cell_type": "code",
   "execution_count": null,
   "metadata": {},
   "outputs": [],
   "source": [
    "# make some datapoints\n",
    "import matplotlib.pyplot as plt\n",
    "X,y= datasets.make_regression(n_samples=100,n_features=1,n_targets=1,noise=1)\n",
    "plt.scatter(X,y)\n",
    "\n",
    "# noise bigger\n",
    "X,y= datasets.make_regression(n_samples=100,n_features=1,n_targets=1,noise=10)\n",
    "plt.scatter(X,y)"
   ]
  },
  {
   "cell_type": "markdown",
   "metadata": {},
   "source": [
    "4. sklearn的属性和功能"
   ]
  },
  {
   "cell_type": "code",
   "execution_count": null,
   "metadata": {},
   "outputs": [],
   "source": [
    "from sklearn import datasets\n",
    "from sklearn.linear_model import LinearRegression\n",
    "\n",
    "loaded_data = datasets.load_boston()\n",
    "data_X = loaded_data.data\n",
    "data_y = loaded_data.target\n",
    "\n",
    "model = LinearRegression() # 选择模型，参数此处为默认\n",
    "model.fit(data_X,data_y)\n",
    "\n",
    "# LR的参数\n",
    "print(model.coef_) # 每个属性配套的参数\n",
    "print(model.intercept_)\n",
    "\n",
    "# 功能\n",
    "print(model.get_params) # model本身的参数\n",
    "print(model.score(data_X,data_y)) #R^2 coefficient of determination 给model打分，看预测和实际数据多吻合\n",
    "\n"
   ]
  },
  {
   "cell_type": "markdown",
   "metadata": {},
   "source": [
    "5. normalization(scale)：\n",
    "    - make sure features are on a similar scale \n",
    "    - 如果x1,x2取值范围跨度很大，不容易走到gradient descent的中间点"
   ]
  },
  {
   "cell_type": "code",
   "execution_count": null,
   "metadata": {},
   "outputs": [],
   "source": [
    "from sklearn import preprocessing\n",
    "import numpy as numpy\n",
    "\n",
    "a = np.array([[10,2.7,3.6],[-100,5,-2],[120,20,40]],dtype=np.float64)\n",
    "print(a)\n",
    "print(preprocessing.scale(a))"
   ]
  },
  {
   "cell_type": "code",
   "execution_count": null,
   "metadata": {},
   "outputs": [],
   "source": [
    "from sklearn.model_selection import train_test_split \n",
    "from sklearn.datasets.samples_generator import make_classification\n",
    "from sklearn.svm import SVC\n",
    "import matplotlib.pyplot as plt \n",
    "\n",
    "# generate some data\n",
    "X,y = make_classification(n_samples=300, n_features=2, n_redundant=0,n_informative=2, random_state=22, n_clusters_per_class=1,scale=100 ) # random_state随机产生的每次产生的数据是一样的\n",
    "\n",
    "# look at data\n",
    "#plt.scatter(X[:,0],X[:,1],c=y)\n",
    "\n",
    "X = preprocessing.scale(X) #可以注释掉对比preprocessing前后的performance\n",
    "X_train,X_test,y_train,y_test = train_test_split(X,y,test_size=.3)\n",
    "clf = SVC()\n",
    "clf.fit(X_train,y_train)\n",
    "print(clf.score(X_test,y_test)) \n"
   ]
  },
  {
   "cell_type": "markdown",
   "metadata": {},
   "source": [
    "6. 如何检验神经网络\n",
    "    - Accuracy\n",
    "    - R2 score\n",
    "    - f1 score\n",
    "\n",
    "    overfitting: \n",
    "    - error_training < error_test\n",
    "    \n",
    "    解决方法：\n",
    "    - Theano L1/L2 regularization\n",
    "    - Tensorflow dropout\n",
    "    - sklearn cross validation \n",
    "     怎么确定哪个参数更好解决问题？（e.g. N_layer）"
   ]
  },
  {
   "cell_type": "markdown",
   "metadata": {},
   "source": [
    "7.  Cross Validation\n",
    "    - 对比不同参数/model/x属性进行验证\n"
   ]
  },
  {
   "cell_type": "code",
   "execution_count": null,
   "metadata": {},
   "outputs": [],
   "source": [
    "from sklearn.datasets import load_iris\n",
    "from sklearn.model_selection import train_test_split \n",
    "from sklearn.neighbors import KNeighborsClassifier\n",
    "\n",
    "iris = load_iris() \n",
    "X = iris.data\n",
    "y = iris.target\n",
    "\n",
    "X_train,X_test,y_train,y_test = train_test_split(X,y,random_state=4) \n",
    "\n",
    "knn = KNeighborsClassifier(n_neighbors=5) # 考虑数据点附近的5个数据\n",
    "knn.fit(X_train,y_train) \n",
    "print(knn.score(X_test,y_test))"
   ]
  },
  {
   "cell_type": "code",
   "execution_count": null,
   "metadata": {},
   "outputs": [],
   "source": [
    "# 添加了CV\n",
    "from sklearn.model_selection import cross_val_score\n",
    "knn = KNeighborsClassifier(n_neighbors=5)\n",
    "scores = cross_val_score(knn,X,y,cv=5,scoring = 'accuracy')\n",
    "print(scores.mean())"
   ]
  },
  {
   "cell_type": "code",
   "execution_count": null,
   "metadata": {},
   "outputs": [],
   "source": [
    "from sklearn.model_selection import cross_val_score\n",
    "import matplotlib.pyplot as plt \n",
    "k_range = range(1,31)\n",
    "k_scores = []\n",
    "for k in k_range:\n",
    "    knn = KNeighborsClassifier(n_neighbors=k)\n",
    "    #scores = cross_val_score(knn,X,y,cv=10,scoring = 'accuracy') # for classificaiton\n",
    "    loss= -cross_val_score(knn,X,y,cv=10,scoring = 'neg_mean_squared_error') # for regression\n",
    "    k_scores.append(loss.mean()) #换成scores\n",
    "\n",
    "plt.plot(k_range,k_scores)\n",
    "plt.xlabel('Value of K for KNN')\n",
    "plt.ylabel('Cross validation accuracy')"
   ]
  },
  {
   "cell_type": "code",
   "execution_count": null,
   "metadata": {},
   "outputs": [],
   "source": [
    "# overfitting 问题\n",
    "from sklearn.model_selection import learning_curve\n",
    "from sklearn.datasets import load_digits\n",
    "from sklearn.svm import SVC\n",
    "import matplotlib.pyplot as plt \n",
    "import numpy as np \n",
    "\n",
    "digits = load_digits()\n",
    "X = digits.data\n",
    "y = digits.target\n",
    "\n",
    "train_sizes, train_loss, test_loss = learning_curve(\n",
    "    SVC(gamma=0.001),X,y,cv=10,scoring='neg_mean_squared_error',\n",
    "    train_sizes=[0.1,0.25,0.5,0.75,1] #10%,25%点记录\n",
    ")\n",
    "train_loss_mean = - np.mean(train_loss,axis=1) \n",
    "test_loss_mean = -np.mean(test_loss,axis=1)\n",
    "# 图像化结果\n",
    "plt.plot(train_sizes,train_loss_mean,'o-',color =\"r\", label='training')\n",
    "plt.plot(train_sizes,test_loss_mean,'o-',color='g',label='CV')\n",
    "plt.xlabel(\"training example\")\n",
    "plt.ylabel(\"loss\")\n",
    "plt.legend(loc=\"best\")"
   ]
  },
  {
   "cell_type": "code",
   "execution_count": null,
   "metadata": {},
   "outputs": [],
   "source": [
    "# overfitting 问题\n",
    "from sklearn.model_selection import validation_curve\n",
    "from sklearn.datasets import load_digits\n",
    "from sklearn.svm import SVC\n",
    "import matplotlib.pyplot as plt \n",
    "import numpy as np \n",
    "\n",
    "digits = load_digits()\n",
    "X = digits.data\n",
    "y = digits.target\n",
    "param_range = np.logspace(-6,-2.3,5)\n",
    "train_loss, test_loss = validation_curve(\n",
    "    SVC(),X,y,param_name='gamma',param_range=param_range,cv=10,scoring='neg_mean_squared_error',\n",
    ")\n",
    "train_loss_mean = - np.mean(train_loss,axis=1) \n",
    "test_loss_mean = -np.mean(test_loss,axis=1)\n",
    "# 图像化结果\n",
    "plt.plot(param_range,train_loss_mean,'o-',color =\"r\", label='training')\n",
    "plt.plot(param_range,test_loss_mean,'o-',color='g',label='CV')\n",
    "plt.xlabel(\"gamma\")\n",
    "plt.ylabel(\"loss\")\n",
    "plt.legend(loc=\"best\")"
   ]
  },
  {
   "cell_type": "markdown",
   "metadata": {},
   "source": [
    "8. 读取/储存处理好的model\n"
   ]
  },
  {
   "cell_type": "code",
   "execution_count": null,
   "metadata": {},
   "outputs": [],
   "source": [
    "from sklearn import svm\n",
    "from sklearn import datasets\n",
    "\n",
    "clf = svm.SVC()\n",
    "iris = datasets.load_iris()\n",
    "X,y = iris.data, iris.target\n",
    "clf.fit(X,y)\n",
    "\n",
    "# method1 : pickle\n",
    "import pickle\n",
    "## save \n",
    "#with open('save/clf.pickle','wb') as f:\n",
    " #   pickle.dump(clf,f) # 把clf导入f\n",
    "## restore\n",
    "with open('save/clf.pickle','rb') as f:\n",
    "    clf2 = pickle.load(f)\n",
    "    print(clf2.predict(X[0:1]))\n",
    "\n",
    "# method2 : joblib 比起pickle更快\n",
    "import joblib\n",
    "## save \n",
    "joblib.dump(clf,'save/clf.pkl')\n",
    "## restore\n",
    "clf3 = joblib.load('save/clf.pkl')\n",
    "print(clf3.predict(X[0:1]))\n",
    "\n",
    "\n"
   ]
  },
  {
   "cell_type": "code",
   "execution_count": null,
   "metadata": {},
   "outputs": [],
   "source": []
  }
 ],
 "metadata": {
  "kernelspec": {
   "display_name": "Python 3.8.0 64-bit",
   "language": "python",
   "name": "python38064bitda74fdf623974235942dd8c620d67e3f"
  },
  "language_info": {
   "codemirror_mode": {
    "name": "ipython",
    "version": 3
   },
   "file_extension": ".py",
   "mimetype": "text/x-python",
   "name": "python",
   "nbconvert_exporter": "python",
   "pygments_lexer": "ipython3",
   "version": "3.8.0"
  }
 },
 "nbformat": 4,
 "nbformat_minor": 2
}
