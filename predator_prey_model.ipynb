{
 "cells": [
  {
   "cell_type": "code",
   "execution_count": 7,
   "metadata": {
    "collapsed": true
   },
   "outputs": [],
   "source": [
    "class Island(object):\n",
    "    \"\"\"\n",
    "    n X n grid where zero value indicates an unoccupied cell.\n",
    "    \"\"\"\n",
    "\n",
    "    def __init__(self, n):\n",
    "        \"\"\"\n",
    "        initialize cell to all 0's then fill with animals\n",
    "        \"\"\"\n",
    "        self.grid_size = n\n",
    "        self.grid = []\n",
    "        for i in range(n):\n",
    "            row = [0] * n # row is a list of n zeros\n",
    "            self.grid.append(row)\n",
    "\n",
    "    def __str__(self):\n",
    "        \"\"\"\n",
    "        string representation for printing\n",
    "        (0,0) will be in the lower left corner\n",
    "        \"\"\"\n",
    "        s = ''\n",
    "        for j in range(self.grid_size-1, -1, -1): # print row size-1 first\n",
    "            for i in range(self.grid_size):\n",
    "                if not self.grid[i][j]:\n",
    "                    # print a '.' for an empty space\n",
    "                    s += \"{:<2s}\".format('.' + \" \")\n",
    "                else:\n",
    "                    s += \"{:<2s}\".format(str(self.grid[i][j]) + \" \")\n",
    "            s += \"\\n\"\n",
    "        return s"
   ]
  },
  {
   "cell_type": "code",
   "execution_count": 6,
   "outputs": [
    {
     "name": "stdout",
     "output_type": "stream",
     "text": [
      "\n"
     ]
    }
   ],
   "source": [
    "royale = Island(10)\n",
    "print(royale)"
   ],
   "metadata": {
    "collapsed": false,
    "pycharm": {
     "name": "#%%\n"
    }
   }
  },
  {
   "cell_type": "code",
   "execution_count": 17,
   "outputs": [
    {
     "name": "stdout",
     "output_type": "stream",
     "text": [
      "5\n",
      "4\n",
      "3\n",
      "2\n",
      "1\n",
      "0\n"
     ]
    }
   ],
   "source": [
    "for x in range(5, -1, -1):\n",
    "    print(x)"
   ],
   "metadata": {
    "collapsed": false,
    "pycharm": {
     "name": "#%%\n"
    }
   }
  }
 ],
 "metadata": {
  "kernelspec": {
   "display_name": "Python 3",
   "language": "python",
   "name": "python3"
  },
  "language_info": {
   "codemirror_mode": {
    "name": "ipython",
    "version": 2
   },
   "file_extension": ".py",
   "mimetype": "text/x-python",
   "name": "python",
   "nbconvert_exporter": "python",
   "pygments_lexer": "ipython2",
   "version": "2.7.6"
  }
 },
 "nbformat": 4,
 "nbformat_minor": 0
}